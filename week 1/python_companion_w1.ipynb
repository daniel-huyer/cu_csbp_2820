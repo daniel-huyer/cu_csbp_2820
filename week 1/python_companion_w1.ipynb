{
 "cells": [
  {
   "cell_type": "markdown",
   "metadata": {},
   "source": [
    "### Block 1\n",
    "**The len() function returns the size (dimension)**\n",
    "This one is pretty straight forward but will be necessary when doing any sort of vector arithmetic as in order to vector sums, multiplication, and inner products, the vectors need to be the same size. So it will always be good to do a check before attempting one of these operations"
   ]
  },
  {
   "cell_type": "code",
   "execution_count": 65,
   "metadata": {},
   "outputs": [
    {
     "data": {
      "text/plain": [
       "4"
      ]
     },
     "execution_count": 65,
     "metadata": {},
     "output_type": "execute_result"
    }
   ],
   "source": [
    "# block 1, pg. 2\n",
    "x = [-1.1, 0.0, 3.6, -7.2]\n",
    "len(x)"
   ]
  },
  {
   "cell_type": "code",
   "execution_count": 66,
   "metadata": {},
   "outputs": [
    {
     "name": "stdout",
     "output_type": "stream",
     "text": [
      "[-1.1, 1.0, 4.6, -6.2]\n"
     ]
    }
   ],
   "source": [
    "# additional context/code\n",
    "def vectorAddition(x_list: list, y_list: list) -> list:\n",
    "    if len(x_list) == len(y_list):\n",
    "        xy_list = [] # initialize return list\n",
    "        for x, y in zip(x_list, y_list): # zip allows iteration over both\n",
    "            xy_list.append(x + y)\n",
    "        return xy_list\n",
    "    else:\n",
    "        print(\"List x and y are not the same length\")\n",
    "        return [] # return empty list if can't do vector addition\n",
    "\n",
    "\n",
    "y = [0, 1, 1, 1]\n",
    "len(y)\n",
    "\n",
    "print(vectorAddition(x, y))"
   ]
  },
  {
   "cell_type": "markdown",
   "metadata": {},
   "source": [
    "### Block 2\n",
    "I haven't seen or used number before. Main feature I see is that it can do the linear algebra vector operations, Important to note that it still uses 0 based indices like with other python arrays/lists, and not the linear algebra 1 base indices. \n",
    "The book also shows that len works the same, as does index assignment and that -1 is the last element like with normal lists. I wonder if slices work the same?"
   ]
  },
  {
   "cell_type": "code",
   "execution_count": 67,
   "metadata": {},
   "outputs": [
    {
     "data": {
      "text/plain": [
       "3.6"
      ]
     },
     "execution_count": 67,
     "metadata": {},
     "output_type": "execute_result"
    }
   ],
   "source": [
    "# block 2, pg. 3\n",
    "import numpy as np\n",
    "x = np.array([-1.1, 0.0, 3.6, -7.2])\n",
    "x[2] # array value at index 2"
   ]
  },
  {
   "cell_type": "code",
   "execution_count": 68,
   "metadata": {},
   "outputs": [
    {
     "name": "stdout",
     "output_type": "stream",
     "text": [
      "4\n",
      "[-1.1  0.  20.  -7.2]\n",
      "-7.2\n",
      "[ 0. 20.]\n"
     ]
    }
   ],
   "source": [
    "print(len(x)) # length of array\n",
    "x[2] = 20 # list index re-assignment\n",
    "print(x)\n",
    "print(x[-1]) # -1 index displays last value\n",
    "print(x[1:3]) # slices work the same"
   ]
  },
  {
   "cell_type": "markdown",
   "metadata": {},
   "source": [
    "### Block 3\n",
    "Here the book talks about vector equality. The first example shows basic aliasing. Arrays/lists in python are all passed by reference, so y = x is making it so both variables point to the same object. Numpy uses the same copy method as standard python arrays to do what is called a shallow copy or when two different array objects reference the same elements.\n",
    "\n",
    "In the first, aliassing, what effects one, effects the other. In a shallow copy they are independent to the other's changes. Other's way to do a shallow copy include slicing and using a constructor, in Numpy's case, I wonder if this will also act the same."
   ]
  },
  {
   "cell_type": "code",
   "execution_count": 69,
   "metadata": {},
   "outputs": [
    {
     "name": "stdout",
     "output_type": "stream",
     "text": [
      "[-1.1  0.  20.  -7.2]\n"
     ]
    }
   ],
   "source": [
    "# import numpy as np # I comment out as, as already imported in previous block\n",
    "x = np.array([-1.1, 0.0, 3.6, -7.2])\n",
    "y = x # aliassing, x and y now refer to same object\n",
    "x[2] = 20.0\n",
    "print(y) # change to x effects y"
   ]
  },
  {
   "cell_type": "code",
   "execution_count": 70,
   "metadata": {},
   "outputs": [
    {
     "name": "stdout",
     "output_type": "stream",
     "text": [
      "x: {} [-1.1  0.  20.  10. ]\n",
      "z: {} [-1.1  0.  20.  10. ]\n",
      "z: {} [-1.1  2.  20.  10. ]\n",
      "x: {} [-1.1  0.  20.  10. ]\n",
      "s: {} [-1.1  2.  20.  10. ]\n",
      "s: {} [-1.1  2.  20.  -4. ]\n",
      "z: {} [-1.1  2.  20.  -4. ]\n",
      "c: {} [-1.1  2.  20.  -4. ]\n",
      "c: {} [100.   2.  20.  -4.]\n",
      "s: {} [-1.1  2.  20.  -4. ]\n"
     ]
    }
   ],
   "source": [
    "y[3] = 10\n",
    "print(\"x: {}\", x) # change to y effects x\n",
    "\n",
    "z = x.copy() # using copy method as in book, pg. 4\n",
    "print(\"z: {}\", z)\n",
    "z[1] = 2 # changing z\n",
    "print(\"z: {}\", z)\n",
    "print(\"x: {}\", x) # doesn't effect x\n",
    "\n",
    "s = z[:] # checking to see if slice method works\n",
    "print(\"s: {}\", s)\n",
    "s[3] = -4 # changing s\n",
    "print(\"s: {}\", s)\n",
    "print(\"z: {}\", z)  # doesn't effect z\n",
    "\n",
    "c = np.array(s) # for a list the syntax would be c = list(s), wonder if this works\n",
    "print(\"c: {}\", c)\n",
    "c[0] = 100 # changing c\n",
    "print(\"c: {}\", c)\n",
    "print(\"s: {}\", s)   # doesn't effect s"
   ]
  },
  {
   "cell_type": "markdown",
   "metadata": {},
   "source": [
    "### Block 4\n",
    "How numpy does equality is really cool. I believe in normal python arrays it just tests and returns whether the overall array's are the same and doesn't return the individual elements that are true/false. "
   ]
  },
  {
   "cell_type": "code",
   "execution_count": 71,
   "metadata": {},
   "outputs": [
    {
     "data": {
      "text/plain": [
       "array([ True,  True,  True,  True])"
      ]
     },
     "execution_count": 71,
     "metadata": {},
     "output_type": "execute_result"
    }
   ],
   "source": [
    "# block 4, pg 4\n",
    "# import numpy as np\n",
    "x = np.array([-1.1, 0.0, 3.6, -7.2])\n",
    "y = x.copy()\n",
    "x == y"
   ]
  },
  {
   "cell_type": "code",
   "execution_count": 72,
   "metadata": {},
   "outputs": [
    {
     "data": {
      "text/plain": [
       "True"
      ]
     },
     "execution_count": 72,
     "metadata": {},
     "output_type": "execute_result"
    }
   ],
   "source": [
    "# testing how standard array equality works\n",
    "x = [1, 2, 3, 4]\n",
    "y = x.copy()\n",
    "x == y\n",
    "# just saw that this a block on the next page..."
   ]
  },
  {
   "cell_type": "markdown",
   "metadata": {},
   "source": [
    "### Block 5"
   ]
  }
 ],
 "metadata": {
  "kernelspec": {
   "display_name": "Python 3.10.8 ('base')",
   "language": "python",
   "name": "python3"
  },
  "language_info": {
   "codemirror_mode": {
    "name": "ipython",
    "version": 3
   },
   "file_extension": ".py",
   "mimetype": "text/x-python",
   "name": "python",
   "nbconvert_exporter": "python",
   "pygments_lexer": "ipython3",
   "version": "3.10.8"
  },
  "orig_nbformat": 4,
  "vscode": {
   "interpreter": {
    "hash": "d4d1e4263499bec80672ea0156c357c1ee493ec2b1c70f0acce89fc37c4a6abe"
   }
  }
 },
 "nbformat": 4,
 "nbformat_minor": 2
}
