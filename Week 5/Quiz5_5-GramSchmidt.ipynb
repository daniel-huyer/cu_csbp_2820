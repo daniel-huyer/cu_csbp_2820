{
 "cells": [
  {
   "cell_type": "markdown",
   "id": "5d02ef10-aa58-4c32-8317-ca1441005488",
   "metadata": {},
   "source": [
    "# Chapter 5: Linear Independence"
   ]
  },
  {
   "cell_type": "markdown",
   "id": "26d086f9-8a2f-4ee5-a7dd-e1c0ed61c0ed",
   "metadata": {},
   "source": [
    "### 5.4 Gram-Schmidt algorithm\n",
    "\n",
    "The Python implementation of the Gram-Schmidt Algorithm takes as input an array of arrays, *a*.\n",
    "\n",
    "If the vectors are linearly independent, it returns an array of arrays, *q*, of orthonormal set of computed vectors.\n",
    "\n",
    "If the vectors are linearly dependent, and the GS Algorithm terminates early at some *q_j = 0*, it returns the array *q[0], ..., q[i-1]* of length *i*.\n",
    "\n",
    "The following code is supplemented from the Python Companion 5.4 (p. 41,42)"
   ]
  },
  {
   "cell_type": "code",
   "execution_count": 2,
   "id": "5433ff14-67f1-4fcb-9961-3353843e5b03",
   "metadata": {},
   "outputs": [],
   "source": [
    "import numpy as np\n",
    "def gram_schmidt(a):\n",
    "    q = []\n",
    "    for i in range(len(a)):\n",
    "        #orthogonalization\n",
    "        q_tilde = a[i]\n",
    "        for j in range(len(q)):\n",
    "            q_tilde = q_tilde - (q[j] @ a[i])*q[j]\n",
    "        #Test for dependence\n",
    "        if np.sqrt(sum(q_tilde**2)) <= 1e-10:\n",
    "            print('Vectors are linearly dependent.')\n",
    "            print('GS algorithm terminates at iteration ', i+1)\n",
    "            return q\n",
    "        #Normalization\n",
    "        else:\n",
    "            q_tilde = q_tilde / np.sqrt(sum(q_tilde**2))\n",
    "            q.append(q_tilde)\n",
    "    print('Vectors are linearly independent.')\n",
    "    return q"
   ]
  },
  {
   "cell_type": "markdown",
   "id": "9cb440e8-482b-42ea-8b18-fbf8a1359ebf",
   "metadata": {},
   "source": [
    "### Book Example - Linearly Independent\n",
    "(VMLS p.100, Companion p.42)"
   ]
  },
  {
   "cell_type": "code",
   "execution_count": 3,
   "id": "6282bc6c-3a68-4858-be7c-492836a51e65",
   "metadata": {},
   "outputs": [
    {
     "name": "stdout",
     "output_type": "stream",
     "text": [
      "Vectors are linearly independent.\n",
      "[array([-0.5,  0.5, -0.5,  0.5]), array([0.5, 0.5, 0.5, 0.5]), array([-0.5, -0.5,  0.5,  0.5])]\n",
      "Norm of q[0] : 1.0\n",
      "Inner product of q[0] and q[1] : 0.0\n",
      "Inner product of q[0] and q[2] : 0.0\n",
      "Norm of q[1] : 1.0\n",
      "Inner product of q[1] and q[2] : 0.0\n",
      "Norm of q[2] : 1.0\n"
     ]
    }
   ],
   "source": [
    "a = np.array([ [-1, 1, -1, 1], [-1, 3, -1, 3], [1, 3, 5, 7] ])\n",
    "q = gram_schmidt(a)\n",
    "print(q)\n",
    "#Test orthonormality\n",
    "print('Norm of q[0] :', (sum(q[0]**2))**0.5)\n",
    "print('Inner product of q[0] and q[1] :', q[0] @ q[1])\n",
    "print('Inner product of q[0] and q[2] :', q[0] @ q[2])\n",
    "print('Norm of q[1] :', (sum(q[1]**2))**0.5)\n",
    "print('Inner product of q[1] and q[2] :', q[1] @ q[2])\n",
    "print('Norm of q[2] :', (sum(q[2]**2))**0.5)"
   ]
  },
  {
   "cell_type": "markdown",
   "id": "565b7708-9611-44b3-8f82-459db70f1fee",
   "metadata": {},
   "source": [
    "From these results, we see that we have an orthonormal collection of vector q0, q1, snd q2: The norm of each vector is 1, and transposing it with any other vector within the collection yields an inner product of 0. "
   ]
  },
  {
   "cell_type": "markdown",
   "id": "23bf4b60-0c80-4009-8952-48b62abe5a88",
   "metadata": {},
   "source": [
    "### Book Example - Linearly Dependent\n",
    "\n",
    "(Quiz 5 #5)\n",
    "\n",
    "The Python companion makes an important mention that you can rig the GS-Algorithm by formulating one of the inserted vectors as a linear combination of the other input vectors. Thus, we would expect the GS-Algorithm to determine that the vectors are linearly dependent - and it does.\n",
    "\n",
    "In this example, for simplicity, we formulate a third vector as a linear combination of the first and second vector. This is the definition of a linear combination: If any vector can be represented as a linear combination of any other vectors in the set, then the series is **linearly dependent**.\n",
    "\n",
    "We will use the same input vectors from the previous example, while inputting a third vector as a linear combination of the first vector multiplied by 2 added to the second one.\n",
    "\n",
    "The algorithm outputs that these vectors are linearly dependent, which is to be expected. Purposefully making the third input vector a linear combination of the first two forces the GS-Algorithm to terminate at the third iteration, the point when it arrives to process the third input vector.\n",
    "\n",
    "The steps are also written out by hand in a pdf, where we can arrive at the same conclusion."
   ]
  },
  {
   "cell_type": "code",
   "execution_count": 4,
   "id": "800498c8-a11e-41a2-9623-dd5a0f5b35b1",
   "metadata": {},
   "outputs": [
    {
     "name": "stdout",
     "output_type": "stream",
     "text": [
      "Vectors are linearly dependent.\n",
      "GS algorithm terminates at iteration  3\n",
      "[array([-0.5,  0.5, -0.5,  0.5]), array([0.5, 0.5, 0.5, 0.5])]\n"
     ]
    }
   ],
   "source": [
    "#The first two vectors\n",
    "a = np.array([ [-1, 1, -1, 1], [-1, 3, -1, 3]])\n",
    "\n",
    "#Creating a linearly dependent vector from the above two vectors\n",
    "lin_dep_vector = 2*a[0] + a[1]\n",
    "\n",
    "#Create a stacked vector, b, \n",
    "b = np.array([a[0], a[1], lin_dep_vector])\n",
    "q = gram_schmidt(b)\n",
    "print(q)"
   ]
  },
  {
   "cell_type": "code",
   "execution_count": 5,
   "id": "b1c07eb4-1ce9-48fb-bac8-d7265fdb1140",
   "metadata": {},
   "outputs": [
    {
     "name": "stdout",
     "output_type": "stream",
     "text": [
      "Vectors are linearly independent.\n",
      "[array([-0.5,  0.5, -0.5,  0.5]), array([0.5, 0.5, 0.5, 0.5]), array([-0.5, -0.5,  0.5,  0.5])]\n"
     ]
    }
   ],
   "source": [
    "#The 3 vectors from pg 100\n",
    "a = np.array([ [-1, 1, -1, 1], [-1, 3, -1, 3], [1, 3, 5, 7]])\n",
    "\n",
    "q = gram_schmidt(a)\n",
    "print(q)"
   ]
  },
  {
   "cell_type": "code",
   "execution_count": 6,
   "id": "075f9ef8",
   "metadata": {},
   "outputs": [
    {
     "name": "stdout",
     "output_type": "stream",
     "text": [
      "[ -1   9 -10   8 -10] [-3 -2  1  4 -8] [ 9 -4  8 -6 -6] [-7  2  4 -5  0] [ 5  9 -2 -6  4]\n",
      "Vectors are linearly independent.\n",
      "[array([-0.05376033,  0.483843  , -0.53760333,  0.43008266, -0.53760333]), array([-0.32364111, -0.50196702,  0.41382501,  0.23413784, -0.64592095]), array([ 0.7809608 ,  0.10566808,  0.20691284, -0.34501855, -0.46592249]), array([-0.51800392,  0.53066379,  0.25962886, -0.58576604, -0.19884389]), array([0.11890514, 0.47027148, 0.65537123, 0.54593839, 0.1927333 ])]\n"
     ]
    }
   ],
   "source": [
    "a1 = np.random.randint(-10, 10, size=5)\n",
    "a2 = np.random.randint(-10, 10, size=5)\n",
    "a3 = np.random.randint(-10, 10, size=5)\n",
    "a4 = np.random.randint(-10, 10, size=5)\n",
    "a5 = np.random.randint(-10, 10, size=5)\n",
    "print(a1, a2, a3, a4, a5)\n",
    "a = np.array([ a1, a2, a3, a4, a5 ])\n",
    "q = gram_schmidt(a)\n",
    "print(q)"
   ]
  },
  {
   "cell_type": "code",
   "execution_count": 7,
   "id": "b83c823c",
   "metadata": {},
   "outputs": [
    {
     "name": "stdout",
     "output_type": "stream",
     "text": [
      "[-7 -5 -1  8  5] [-5  4  6  4 -5] [ 5 -7  4  5  9] [-7  7  6 -6  6] [-2  5  0  1 -7]\n",
      "Vectors are linearly dependent.\n",
      "GS algorithm terminates at iteration  6\n",
      "[array([-0.54660817, -0.3904344 , -0.07808688,  0.62469505,  0.3904344 ]), array([-0.40007382,  0.41589595,  0.56507601,  0.29836014, -0.50856841]), array([ 0.55543855, -0.19330889,  0.69725065,  0.24880838,  0.32566181]), array([-0.39434474,  0.35169279,  0.28875478, -0.48535149,  0.63392351]), array([ 0.27774214,  0.71661384, -0.32411997,  0.47250994,  0.28461293])]\n"
     ]
    }
   ],
   "source": [
    "a1 = np.random.randint(-10, 10, size=5)\n",
    "a2 = np.random.randint(-10, 10, size=5)\n",
    "a3 = np.random.randint(-10, 10, size=5)\n",
    "a4 = np.random.randint(-10, 10, size=5)\n",
    "a5 = np.random.randint(-10, 10, size=5)\n",
    "a6 = np.random.randint(-10, 10, size=5)\n",
    "print(a1, a2, a3, a4, a5)\n",
    "a = np.array([ a1, a2, a3, a4, a5, a6 ])\n",
    "q = gram_schmidt(a)\n",
    "print(q)"
   ]
  },
  {
   "cell_type": "code",
   "execution_count": 8,
   "id": "9c680ec2",
   "metadata": {},
   "outputs": [
    {
     "name": "stdout",
     "output_type": "stream",
     "text": [
      "Vectors are linearly independent.\n",
      "[array([ 0.70224688,  0.11704115, -0.70224688]), array([ 0.54686114, -0.72025614,  0.42681845])]\n"
     ]
    }
   ],
   "source": [
    "#The first two vectors\n",
    "a = np.array([ [6, 1, -6], [1, -9, 10]])\n",
    "\n",
    "q = gram_schmidt(a)\n",
    "print(q)"
   ]
  },
  {
   "cell_type": "code",
   "execution_count": 19,
   "id": "80cc5aaf",
   "metadata": {},
   "outputs": [
    {
     "name": "stdout",
     "output_type": "stream",
     "text": [
      "AB\n",
      "[[1. 0.]\n",
      " [0. 1.]]\n",
      "BA\n",
      "[[1. 0.]\n",
      " [0. 1.]]\n"
     ]
    }
   ],
   "source": [
    "A = np.array([[1, 2], [0, -2]]) #2 by 3 matrix\n",
    "B = np.array([[1, 1], [0, -1/2]])\n",
    "AB = np.matmul(A,B)\n",
    "BA = np.matmul(B,A)\n",
    "print(\"AB\")\n",
    "print(AB)\n",
    "print(\"BA\")\n",
    "print(BA)\n",
    "\n",
    "\n"
   ]
  },
  {
   "cell_type": "code",
   "execution_count": null,
   "id": "b2ee3560-28b1-4d5a-93bc-8e1c03ee738e",
   "metadata": {},
   "outputs": [],
   "source": [
    "def back_solve(R, b):\n",
    "    n = len(b)                      # assign number of unknowns based on b\n",
    "    x = np.array([0.0] * n)         # solution vector x\n",
    "    \n",
    "    # start from last row and move backward to first\n",
    "    for i in range(n-1, -1, -1):\n",
    "        # verify that R is upper diagonal\n",
    "        if R[i][i] == 0:\n",
    "            return -1\n",
    "        sum = 0.0\n",
    "        # evaluate known part of of linear equation at row i\n",
    "        for j in range (i + 1, n):\n",
    "            sum += R[i][j] * x[j]\n",
    "        x[i] = (b[i] - sum) / R[i][i]\n",
    "    return x"
   ]
  },
  {
   "cell_type": "code",
   "execution_count": 14,
   "id": "294ac5e3",
   "metadata": {},
   "outputs": [
    {
     "name": "stdout",
     "output_type": "stream",
     "text": [
      "No solution for k: known elements don't match.\n"
     ]
    }
   ],
   "source": [
    "def find_k(A, B):\n",
    "\n",
    "\n",
    "    # Since A should equal B, we equate the known elements\n",
    "    if A[0][0] != B[0][0] or A[0][1] != B[0][1] or A[1][0] != B[1][0]:\n",
    "        print(\"No solution for k: known elements don't match.\")\n",
    "        return None\n",
    "\n",
    "    # Solve for k\n",
    "    k = B[1][1]\n",
    "    print(f\"Value of k is: {k}\")\n",
    "    return k\n",
    "\n",
    "A = np.array([[4, 1], [4, None]])  # placeholder\n",
    "B = np.array([[1, 1], [4, -1]])\n",
    "find_k(A, B)"
   ]
  }
 ],
 "metadata": {
  "kernelspec": {
   "display_name": "Python 3 (ipykernel)",
   "language": "python",
   "name": "python3"
  },
  "language_info": {
   "codemirror_mode": {
    "name": "ipython",
    "version": 3
   },
   "file_extension": ".py",
   "mimetype": "text/x-python",
   "name": "python",
   "nbconvert_exporter": "python",
   "pygments_lexer": "ipython3",
   "version": "3.10.8"
  },
  "vscode": {
   "interpreter": {
    "hash": "d4d1e4263499bec80672ea0156c357c1ee493ec2b1c70f0acce89fc37c4a6abe"
   }
  }
 },
 "nbformat": 4,
 "nbformat_minor": 5
}
